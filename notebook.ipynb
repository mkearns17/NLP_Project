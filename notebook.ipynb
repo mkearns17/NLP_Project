{
 "cells": [
  {
   "cell_type": "markdown",
   "id": "b22d90ae-37be-40ab-8019-4fdaebe3dabf",
   "metadata": {},
   "source": [
    "# Natural Language Processing - Apple Sentiment\n",
    "by Michael Kearns\n",
    "\n",
    "# Business Understanding\n",
    "\n",
    "Customer relations and approval is highly valued at the Tech Sales Company (TSC). Currently, TSC sells Apple products and we want to be sure if we should continue to market and supply Apple products to our customers. If customers no longer like Apple, we want to separate ourselves from the brand and show our loyalty to the customers and promote other products. To determine if customers support Apple, we plan to develop a natural language processing model that can identify customer sentiment toward Apple based on the content of X (Twitter) posts. Then, this model will be used to monitor customer sentiment over the next year by rating future X posts."
   ]
  },
  {
   "cell_type": "markdown",
   "id": "ccf13a3b-1c75-4133-b594-6b03e75402e1",
   "metadata": {},
   "source": [
    "# Data Understanding\n",
    "To train and test this machine learning model, data from [Crowdflower](https://www.kaggle.com/datasets/slythe/apple-twitter-sentiment-crowdflower) will be used. This dataset includes nearly 4,000 X posts that reference Apple from December, 2014. The primary features that will be used are the \"Sentiment\" and \"Text\" features that include the posts and that user's sentiment toward Apple, rated from 1-3 scale\n"
   ]
  },
  {
   "cell_type": "markdown",
   "id": "3304da02-8fd1-4040-87b1-2b09d61c5f85",
   "metadata": {},
   "source": [
    "## Data Preparation"
   ]
  },
  {
   "cell_type": "code",
   "execution_count": 1,
   "id": "4358f4cb-7321-4157-822e-02dfa6d12e08",
   "metadata": {},
   "outputs": [
    {
     "name": "stdout",
     "output_type": "stream",
     "text": [
      "<class 'pandas.core.frame.DataFrame'>\n",
      "RangeIndex: 3886 entries, 0 to 3885\n",
      "Data columns (total 12 columns):\n",
      " #   Column                Non-Null Count  Dtype  \n",
      "---  ------                --------------  -----  \n",
      " 0   _unit_id              3886 non-null   int64  \n",
      " 1   _golden               3886 non-null   bool   \n",
      " 2   _unit_state           3886 non-null   object \n",
      " 3   _trusted_judgments    3886 non-null   int64  \n",
      " 4   _last_judgment_at     3783 non-null   object \n",
      " 5   sentiment             3886 non-null   object \n",
      " 6   sentiment:confidence  3886 non-null   float64\n",
      " 7   date                  3886 non-null   object \n",
      " 8   id                    3886 non-null   float64\n",
      " 9   query                 3886 non-null   object \n",
      " 10  sentiment_gold        103 non-null    object \n",
      " 11  text                  3886 non-null   object \n",
      "dtypes: bool(1), float64(2), int64(2), object(7)\n",
      "memory usage: 337.9+ KB\n"
     ]
    }
   ],
   "source": [
    "import pandas as pd\n",
    "\n",
    "#import csv file\n",
    "filename = 'data/Apple-Twitter-Sentiment-DFE.csv'\n",
    "df = pd.read_csv(filename, encoding=\"latin1\")\n",
    "\n",
    "#check dataframe info\n",
    "df.info()"
   ]
  },
  {
   "cell_type": "markdown",
   "id": "d5c5c524-833e-40cd-8129-9e5d57fa86d6",
   "metadata": {},
   "source": [
    "Only the \"sentiment\" and \"text\" columns will be retained for this model. All other columns can be removed."
   ]
  },
  {
   "cell_type": "code",
   "execution_count": 2,
   "id": "ccd74537-e45f-49cc-b166-0f038fcd4eef",
   "metadata": {},
   "outputs": [
    {
     "name": "stdout",
     "output_type": "stream",
     "text": [
      "<class 'pandas.core.frame.DataFrame'>\n",
      "RangeIndex: 3886 entries, 0 to 3885\n",
      "Data columns (total 2 columns):\n",
      " #   Column     Non-Null Count  Dtype \n",
      "---  ------     --------------  ----- \n",
      " 0   sentiment  3886 non-null   object\n",
      " 1   text       3886 non-null   object\n",
      "dtypes: object(2)\n",
      "memory usage: 60.8+ KB\n"
     ]
    }
   ],
   "source": [
    "#Keep relevant columns in dataset.\n",
    "df = df[['sentiment','text']]\n",
    "df.info()"
   ]
  },
  {
   "cell_type": "code",
   "execution_count": 3,
   "id": "fdd352b0-553b-475d-9871-466ce37d7473",
   "metadata": {},
   "outputs": [
    {
     "name": "stdout",
     "output_type": "stream",
     "text": [
      "sentiment\n",
      "3               2162\n",
      "1               1219\n",
      "5                423\n",
      "not_relevant      82\n",
      "Name: count, dtype: int64\n"
     ]
    }
   ],
   "source": [
    "#Check overall sentiment distribution\n",
    "print(df['sentiment'].value_counts())"
   ]
  },
  {
   "cell_type": "markdown",
   "id": "bcd0b422-4c0f-473d-b906-ccec58e0dfd4",
   "metadata": {},
   "source": [
    "Based on background information provided by the datasource, sentiment is ranked as 1 - Negative, 3 - Neutral, 5 - Positive."
   ]
  },
  {
   "cell_type": "code",
   "execution_count": 4,
   "id": "5dc0cd79-fb71-496b-8313-9165f3fd9b3e",
   "metadata": {},
   "outputs": [
    {
     "name": "stdout",
     "output_type": "stream",
     "text": [
      "sentiment\n",
      "3               0.556356\n",
      "1               0.313690\n",
      "5               0.108852\n",
      "not_relevant    0.021101\n",
      "Name: proportion, dtype: float64\n"
     ]
    }
   ],
   "source": [
    "#Check proportion of sentiment values\n",
    "print(df['sentiment'].value_counts(normalize = True))"
   ]
  },
  {
   "cell_type": "markdown",
   "id": "d37f7c97-f728-401b-8a25-285063540760",
   "metadata": {},
   "source": [
    "\"Neutral\" sentiment posts take up almost 56% of the datset, followed by %31 \"Negative\" posts, and %11 \"Positive\" posts. If the model was created based on this current distribution, the model would likely be more influenced by the \"Neutral\" or \"Negative\" posts and will not be able to accurately rate future posts. Therefore, some tactics will need to be implemented to deal with the class imbalance. Before the class imbalance is addressed, the data will need to be cleaned/preprocessed and split into train and test sets.\n",
    "\n",
    "There are less than 100 posts labeled as \"not_relevant\". These can be removed and will not be considered in the model."
   ]
  },
  {
   "cell_type": "code",
   "execution_count": 6,
   "id": "1dd3a7cc-3c1c-43d8-a3d7-0ea6e66f28b5",
   "metadata": {},
   "outputs": [
    {
     "name": "stdout",
     "output_type": "stream",
     "text": [
      "sentiment\n",
      "3    0.568349\n",
      "1    0.320452\n",
      "5    0.111199\n",
      "Name: proportion, dtype: float64\n"
     ]
    }
   ],
   "source": [
    "#Remove \"not_relevant\" rows\n",
    "df = df[df['sentiment']!= 'not_relevant']\n",
    "\n",
    "#Recheck proportion of sentiment values and confirm \"not_relevant\" rows are removed\n",
    "print(df['sentiment'].value_counts(normalize = True))"
   ]
  },
  {
   "cell_type": "markdown",
   "id": "7a1eb037-d7c1-4523-9671-c79d20b5a240",
   "metadata": {},
   "source": [
    "To make the text more suitable for a machine learning model, the text needs to be tokenized. This will be done using the **nltk** module."
   ]
  },
  {
   "cell_type": "code",
   "execution_count": null,
   "id": "ce847dbe-395d-4f56-8c9b-75271fd188a9",
   "metadata": {},
   "outputs": [],
   "source": [
    "import nltk\n",
    "from nltk.probability import FreqDist\n",
    "from nltk.corpus import stopwords\n",
    "from nltk.tokenize import regexp_tokenize, word_tokenize, RegexpTokenizer\n",
    "import matplotlib.pyplot as plt\n",
    "import string\n",
    "import re"
   ]
  },
  {
   "cell_type": "markdown",
   "id": "f2aa11dd-e0b8-4d34-ba1d-e7d32d750e73",
   "metadata": {},
   "source": [
    "# Exploratory data Anlysi"
   ]
  },
  {
   "cell_type": "markdown",
   "id": "3bf17dbf-5a07-455e-9c8f-a076b262c44d",
   "metadata": {},
   "source": [
    "# Conclusion"
   ]
  },
  {
   "cell_type": "markdown",
   "id": "dafde494-33ce-4ee8-90d1-964e0a64541b",
   "metadata": {},
   "source": [
    "## Limitations"
   ]
  },
  {
   "cell_type": "markdown",
   "id": "71a02447-ccbb-4259-b18d-3c37f3aa9aae",
   "metadata": {},
   "source": [
    "## Recommendations"
   ]
  },
  {
   "cell_type": "markdown",
   "id": "663c3148-a3e1-4cd5-b44d-6e35bd898df1",
   "metadata": {},
   "source": [
    "## Next Steps"
   ]
  },
  {
   "cell_type": "code",
   "execution_count": null,
   "id": "a97ffc5a-9eac-4218-8de1-2c37e31bbcf5",
   "metadata": {},
   "outputs": [],
   "source": []
  }
 ],
 "metadata": {
  "kernelspec": {
   "display_name": "Python (my-learn-env)",
   "language": "python",
   "name": "learn-env"
  },
  "language_info": {
   "codemirror_mode": {
    "name": "ipython",
    "version": 3
   },
   "file_extension": ".py",
   "mimetype": "text/x-python",
   "name": "python",
   "nbconvert_exporter": "python",
   "pygments_lexer": "ipython3",
   "version": "3.8.5"
  }
 },
 "nbformat": 4,
 "nbformat_minor": 5
}

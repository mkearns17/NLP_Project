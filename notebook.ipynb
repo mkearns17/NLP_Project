{
 "cells": [
  {
   "cell_type": "markdown",
   "id": "b22d90ae-37be-40ab-8019-4fdaebe3dabf",
   "metadata": {},
   "source": [
    "# Natural Language Processing - Apple Sentiment\n",
    "by Michael Kearns\n",
    "\n",
    "# Business Understanding\n",
    "\n",
    "Customer relations and approval is highly valued at the Tech Sales Company (TSC). Currently, TSC sells Apple products and we want to be sure if we should continue to market and supply Apple products to our customers. If customers no longer like Apple, we want to separate ourselves from the brand and show our loyalty to our customers and promote other products. To track what customers do not like about Apple, we plan to develop a natural language processing model that can identify if a customer's post is critical and should be reviewed later. Non critical posts will be considered posts that do not provide negative or useful information that can help show what our customers do not like about Apple. "
   ]
  },
  {
   "cell_type": "markdown",
   "id": "ccf13a3b-1c75-4133-b594-6b03e75402e1",
   "metadata": {},
   "source": [
    "# Data Understanding\n",
    "To train and test this machine learning model, data from [Crowdflower](https://www.kaggle.com/datasets/slythe/apple-twitter-sentiment-crowdflower) will be used. This dataset includes nearly 4,000 X posts that reference Apple from December, 2014. The primary features that will be used are the \"Sentiment\" and \"Text\" features that include the posts and that user's sentiment toward Apple, rated from 1-3 scale.\n"
   ]
  },
  {
   "cell_type": "markdown",
   "id": "3304da02-8fd1-4040-87b1-2b09d61c5f85",
   "metadata": {},
   "source": [
    "## Data Preparation"
   ]
  },
  {
   "cell_type": "code",
   "execution_count": 1,
   "id": "4358f4cb-7321-4157-822e-02dfa6d12e08",
   "metadata": {},
   "outputs": [
    {
     "name": "stdout",
     "output_type": "stream",
     "text": [
      "<class 'pandas.core.frame.DataFrame'>\n",
      "RangeIndex: 3886 entries, 0 to 3885\n",
      "Data columns (total 12 columns):\n",
      " #   Column                Non-Null Count  Dtype  \n",
      "---  ------                --------------  -----  \n",
      " 0   _unit_id              3886 non-null   int64  \n",
      " 1   _golden               3886 non-null   bool   \n",
      " 2   _unit_state           3886 non-null   object \n",
      " 3   _trusted_judgments    3886 non-null   int64  \n",
      " 4   _last_judgment_at     3783 non-null   object \n",
      " 5   sentiment             3886 non-null   object \n",
      " 6   sentiment:confidence  3886 non-null   float64\n",
      " 7   date                  3886 non-null   object \n",
      " 8   id                    3886 non-null   float64\n",
      " 9   query                 3886 non-null   object \n",
      " 10  sentiment_gold        103 non-null    object \n",
      " 11  text                  3886 non-null   object \n",
      "dtypes: bool(1), float64(2), int64(2), object(7)\n",
      "memory usage: 337.9+ KB\n"
     ]
    }
   ],
   "source": [
    "import pandas as pd\n",
    "import numpy as np\n",
    "\n",
    "#import csv file\n",
    "filename = 'data/Apple-Twitter-Sentiment-DFE.csv'\n",
    "df = pd.read_csv(filename, encoding=\"latin1\")\n",
    "\n",
    "#check dataframe info\n",
    "df.info()"
   ]
  },
  {
   "cell_type": "markdown",
   "id": "d5c5c524-833e-40cd-8129-9e5d57fa86d6",
   "metadata": {},
   "source": [
    "Only the \"sentiment\" and \"text\" columns will be retained for this model. All other columns can be removed."
   ]
  },
  {
   "cell_type": "code",
   "execution_count": 2,
   "id": "ccd74537-e45f-49cc-b166-0f038fcd4eef",
   "metadata": {},
   "outputs": [
    {
     "name": "stdout",
     "output_type": "stream",
     "text": [
      "<class 'pandas.core.frame.DataFrame'>\n",
      "RangeIndex: 3886 entries, 0 to 3885\n",
      "Data columns (total 2 columns):\n",
      " #   Column     Non-Null Count  Dtype \n",
      "---  ------     --------------  ----- \n",
      " 0   sentiment  3886 non-null   object\n",
      " 1   text       3886 non-null   object\n",
      "dtypes: object(2)\n",
      "memory usage: 60.8+ KB\n"
     ]
    }
   ],
   "source": [
    "#Keep relevant columns in dataset.\n",
    "df = df[['sentiment','text']]\n",
    "df.info()"
   ]
  },
  {
   "cell_type": "code",
   "execution_count": 3,
   "id": "fdd352b0-553b-475d-9871-466ce37d7473",
   "metadata": {},
   "outputs": [
    {
     "name": "stdout",
     "output_type": "stream",
     "text": [
      "sentiment\n",
      "3               2162\n",
      "1               1219\n",
      "5                423\n",
      "not_relevant      82\n",
      "Name: count, dtype: int64\n"
     ]
    }
   ],
   "source": [
    "#Check overall sentiment distribution\n",
    "print(df['sentiment'].value_counts())"
   ]
  },
  {
   "cell_type": "markdown",
   "id": "bcd0b422-4c0f-473d-b906-ccec58e0dfd4",
   "metadata": {},
   "source": [
    "Based on background information provided by the datasource, sentiment is ranked as 1 - Negative, 3 - Neutral, 5 - Positive."
   ]
  },
  {
   "cell_type": "code",
   "execution_count": 4,
   "id": "5dc0cd79-fb71-496b-8313-9165f3fd9b3e",
   "metadata": {},
   "outputs": [
    {
     "name": "stdout",
     "output_type": "stream",
     "text": [
      "sentiment\n",
      "3               0.556356\n",
      "1               0.313690\n",
      "5               0.108852\n",
      "not_relevant    0.021101\n",
      "Name: proportion, dtype: float64\n"
     ]
    }
   ],
   "source": [
    "#Check proportion of sentiment values\n",
    "print(df['sentiment'].value_counts(normalize = True))"
   ]
  },
  {
   "cell_type": "markdown",
   "id": "d37f7c97-f728-401b-8a25-285063540760",
   "metadata": {},
   "source": [
    "Based on the buisness problem, the model is to determine if a post is \"critical\" or \"not critical\". That makes this a binary problem and the sentiment values need to be adjusted to accommadte a binary classification. 3 or \"Neutral\" posts will be considered \"not critical\", and to maintain a balanced distribution, 800 random posts from the 3 classification will be converted to 5 ratings. Then the 5's will be converted to 0's for simplicity so that the model can classify posts as 0 - \"not critical\" or 1 - \"critical\". Posts that have a \"not_relevant\" sentiment will be removed as they only make up 2% of the data set. After this redistribution of data, the model will still have over 2000 posts to train and test on which is sufficient."
   ]
  },
  {
   "cell_type": "code",
   "execution_count": 5,
   "id": "1dd3a7cc-3c1c-43d8-a3d7-0ea6e66f28b5",
   "metadata": {},
   "outputs": [],
   "source": [
    "#Remove \"not_relevant\" rows\n",
    "df = df[df['sentiment']!= 'not_relevant']\n",
    "#convert sentiment to integers\n",
    "df['sentiment'] = df['sentiment'].astype(int)"
   ]
  },
  {
   "cell_type": "code",
   "execution_count": 6,
   "id": "23cd9043-750b-4fa6-b1da-da45ac6d34f1",
   "metadata": {},
   "outputs": [
    {
     "name": "stderr",
     "output_type": "stream",
     "text": [
      "/var/folders/sk/8hr8rsms4cb5y3ryy9w5yplh0000gn/T/ipykernel_86292/1882727535.py:11: SettingWithCopyWarning: \n",
      "A value is trying to be set on a copy of a slice from a DataFrame\n",
      "\n",
      "See the caveats in the documentation: https://pandas.pydata.org/pandas-docs/stable/user_guide/indexing.html#returning-a-view-versus-a-copy\n",
      "  df['sentiment'].loc[random_subset_indices] = 5\n"
     ]
    }
   ],
   "source": [
    "#Randomly convert 800 of the 3's to 5's\n",
    "\n",
    "# Step 1: Identify rows with a rating of 3\n",
    "rating_3_indices = df[df['sentiment'] == 3].index\n",
    "\n",
    "# Step 2: select random group of 800 ratings = 3\n",
    "np.random.seed(42)\n",
    "random_subset_indices = np.random.choice(rating_3_indices, size=800, replace=False)\n",
    "\n",
    "# Step 3: Convert random subset to value = 5\n",
    "df['sentiment'].loc[random_subset_indices] = 5\n",
    "\n",
    "#Step 4: Remove remaining rows from df\n",
    "remaining_indices = df[df['sentiment'] == 3].index\n",
    "df = df.drop(remaining_indices)"
   ]
  },
  {
   "cell_type": "code",
   "execution_count": 7,
   "id": "cb2c960c-e45c-4f22-bbdf-36a753b72bcc",
   "metadata": {},
   "outputs": [
    {
     "name": "stdout",
     "output_type": "stream",
     "text": [
      "sentiment\n",
      "5    1223\n",
      "1    1219\n",
      "Name: count, dtype: int64\n"
     ]
    }
   ],
   "source": [
    "#Check overall sentiment distribution\n",
    "print(df['sentiment'].value_counts())"
   ]
  },
  {
   "cell_type": "code",
   "execution_count": 8,
   "id": "7e54f74f-f432-4e6a-84e4-9fad5ec38f0a",
   "metadata": {},
   "outputs": [
    {
     "name": "stdout",
     "output_type": "stream",
     "text": [
      "sentiment\n",
      "0    1223\n",
      "1    1219\n",
      "Name: count, dtype: int64\n"
     ]
    }
   ],
   "source": [
    "#Convert 5's to 0's\n",
    "df['sentiment'] = df['sentiment'].replace(5,0)\n",
    "#Check overall sentiment distribution\n",
    "print(df['sentiment'].value_counts())"
   ]
  },
  {
   "cell_type": "markdown",
   "id": "01b69a56-9515-42ee-8a90-413d18457566",
   "metadata": {},
   "source": [
    "Data also needs to simplified and cleaned. Initial steps to preprocess the text will be to convert all letters in a post to lowercase. Mentions, ie. @..., URLS, hashtags, special characters, and extra whitespaces will be removed. The user mentions will be primarily directed at Apple which is not signifcant as all posts in this data are in reference towards Apple. URLS are long and not semantic content."
   ]
  },
  {
   "cell_type": "code",
   "execution_count": 9,
   "id": "1a66b04a-f577-4f9a-b8e9-ad66f8927060",
   "metadata": {},
   "outputs": [],
   "source": [
    "#Convert all letters to lowercase\n",
    "df['text_cleaned'] = df['text'].str.lower()\n",
    "\n",
    "import re\n",
    "\n",
    "def clean_text(text):\n",
    "    text = re.sub(r'@\\w+', '', text)  # Remove mentions\n",
    "    text = re.sub(r'http\\S+|www\\S+', '', text)  # Remove URLs\n",
    "    text = re.sub(r'#', '', text)  # Remove hashtags\n",
    "    text = re.sub(r'[^\\w\\s]', '', text)  # Remove special characters\n",
    "    text = text.strip()  # Remove extra whitespaces\n",
    "    return text\n",
    "\n",
    "# Apply function to the dataset\n",
    "df['text_cleaned'] = df['text_cleaned'].apply(clean_text)"
   ]
  },
  {
   "cell_type": "markdown",
   "id": "f2aa11dd-e0b8-4d34-ba1d-e7d32d750e73",
   "metadata": {},
   "source": [
    "# Exploratory Data Analysis"
   ]
  },
  {
   "cell_type": "markdown",
   "id": "7a1eb037-d7c1-4523-9671-c79d20b5a240",
   "metadata": {},
   "source": [
    "To make the text more suitable for a machine learning model, the text needs to be tokenized. This will be done using the **nltk** module. This step will also help us understand common words from user posts."
   ]
  },
  {
   "cell_type": "code",
   "execution_count": 10,
   "id": "ce847dbe-395d-4f56-8c9b-75271fd188a9",
   "metadata": {},
   "outputs": [
    {
     "name": "stderr",
     "output_type": "stream",
     "text": [
      "/Users/michaelkearns/anaconda3/envs/my-learn-env/lib/python3.8/site-packages/scipy/__init__.py:146: UserWarning: A NumPy version >=1.16.5 and <1.23.0 is required for this version of SciPy (detected version 1.24.3\n",
      "  warnings.warn(f\"A NumPy version >={np_minversion} and <{np_maxversion}\"\n"
     ]
    }
   ],
   "source": [
    "import nltk\n",
    "from nltk.probability import FreqDist\n",
    "from nltk.tokenize import RegexpTokenizer\n",
    "import matplotlib.pyplot as plt\n",
    "import string"
   ]
  },
  {
   "cell_type": "code",
   "execution_count": 11,
   "id": "9a634b07-c7a5-4fba-8459-e5c9f0e8e16c",
   "metadata": {},
   "outputs": [],
   "source": [
    "#tokenize text using basic regex pattern\n",
    "token_pattern = r\"(?u)\\b\\w\\w+\\b\"\n",
    "tokenizer = RegexpTokenizer(token_pattern)\n",
    "\n",
    "#apply tokenizer to dataset\n",
    "df['text_tokenized']=df['text_cleaned'].apply(tokenizer.tokenize)"
   ]
  },
  {
   "cell_type": "code",
   "execution_count": 12,
   "id": "9633cafe-f613-4ee0-be60-400e4ca0c8f8",
   "metadata": {},
   "outputs": [
    {
     "data": {
      "image/png": "[encoded data removed]",
      "text/plain": [
       "<Figure size 800x400 with 1 Axes>"
      ]
     },
     "metadata": {},
     "output_type": "display_data"
    }
   ],
   "source": [
    "#Create Frequency Distribution of Tokens\n",
    "text_freq_dist = FreqDist(df['text_tokenized'].explode())\n",
    "\n",
    "# Plot the top 10 tokens\n",
    "\n",
    "import matplotlib.pyplot as plt\n",
    "from matplotlib.ticker import MaxNLocator\n",
    "\n",
    "def visualize_top_10(freq_dist, title, color):\n",
    "\n",
    "    # Extract data for plotting\n",
    "    top_10 = list(zip(*freq_dist.most_common(10)))\n",
    "    tokens = top_10[0]\n",
    "    counts = top_10[1]\n",
    "\n",
    "    # Set up plot and plot data\n",
    "    fig, ax = plt.subplots(figsize = (8,4))\n",
    "    ax.bar(tokens, counts, color = color)\n",
    "\n",
    "    # Customize plot appearance\n",
    "    ax.set_title(title)\n",
    "    ax.set_ylabel(\"Count\")\n",
    "    ax.yaxis.set_major_locator(MaxNLocator(integer=True))\n",
    "    ax.tick_params(axis=\"x\", rotation=90)\n",
    "    \n",
    "visualize_top_10(text_freq_dist, 'Top 10 Word Frequency', 'tab:blue')\n",
    "\n",
    "plt.savefig(\"./images/df_10word_freq.png\", dpi=300,bbox_inches = 'tight')"
   ]
  },
  {
   "cell_type": "markdown",
   "id": "c7e54b7e-2f82-42f1-81da-d625b112bb14",
   "metadata": {},
   "source": [
    "The frequency list does not seem very meaningful yet. It may be worth reviewing the top 10 word frequency betweent the critical and not critical posts."
   ]
  },
  {
   "cell_type": "code",
   "execution_count": 13,
   "id": "32548fa9-40bf-47ce-84cf-4bfcd06328f1",
   "metadata": {},
   "outputs": [
    {
     "data": {
      "image/png": "[encoded data removed]",
      "text/plain": [
       "<Figure size 800x400 with 1 Axes>"
      ]
     },
     "metadata": {},
     "output_type": "display_data"
    },
    {
     "data": {
      "image/png": "[encoded data removed]",
      "text/plain": [
       "<Figure size 800x400 with 1 Axes>"
      ]
     },
     "metadata": {},
     "output_type": "display_data"
    }
   ],
   "source": [
    "# Visualize top 10 tokens per Critical or Not Critical\n",
    "def visualize_top_ten_tokens_per_sentiment(sentiment,rating,text,color):\n",
    "    freq_dist = FreqDist(df[df[sentiment] == rating][text].explode())\n",
    "    if rating == 0:\n",
    "        title = 'Top 10 Word Frequency - Not Critical Posts'\n",
    "    else: \n",
    "        title = 'Top 10 Word Frequency - Critical Posts'\n",
    "    return  visualize_top_10(freq_dist, title, color)\n",
    "\n",
    "for i in range(0,2):\n",
    "    visualize_top_ten_tokens_per_sentiment('sentiment',i,'text_tokenized','tab:blue')\n",
    "    plt.savefig(f\"./images/df_10word_freq_rating{i}.png\", dpi=300,bbox_inches = 'tight')\n",
    "    "
   ]
  },
  {
   "cell_type": "markdown",
   "id": "0a9a2ad9-0c05-451e-8bb2-6693a4623747",
   "metadata": {},
   "source": [
    "Stopwords seem to be very repeatable among the two types of posts. They should be removed to make the tokens more distinct. \"Apple\", \"aapl\", and \"rt\" are commonly appearing as well. \"Apple\" and \"aapl\" do not provide much value as all posts within this data is regarind Apple. \"Rt\" is appearing a lot most likely becuase people posts are from reposting others original posts. These will be added to the stopwords list so that they can be removed."
   ]
  },
  {
   "cell_type": "code",
   "execution_count": 14,
   "id": "e2e69c3f-058e-4e37-8d4a-1dfae4537a1f",
   "metadata": {},
   "outputs": [],
   "source": [
    "#download stopwords to remove\n",
    "nltk.download('stopwords', quiet=True)\n",
    "from nltk.corpus import stopwords\n",
    "\n",
    "stopwords_list = stopwords.words('english')\n",
    "\n",
    "#'aapl' and 'apple' will be very repetive in these posts so they will be removed.\n",
    "stopwords_list.append('apple')\n",
    "stopwords_list.append('aapl')\n",
    "stopwords_list.append('rt')\n",
    "\n",
    "def remove_stopwords(token_list):\n",
    "    stopwords_delete = [token for token in token_list if token not in stopwords_list]\n",
    "    return stopwords_delete\n",
    "\n",
    "#remove stopwords from full dataframe\n",
    "df['text_stopwords_removed'] = df['text_tokenized'].apply(remove_stopwords)"
   ]
  },
  {
   "cell_type": "code",
   "execution_count": 15,
   "id": "bb723bea-4401-4d75-bfbb-95459511cdad",
   "metadata": {},
   "outputs": [
    {
     "data": {
      "image/png": "[encoded data removed]",
      "text/plain": [
       "<Figure size 800x400 with 1 Axes>"
      ]
     },
     "metadata": {},
     "output_type": "display_data"
    },
    {
     "data": {
      "image/png": "[encoded data removed]",
      "text/plain": [
       "<Figure size 800x400 with 1 Axes>"
      ]
     },
     "metadata": {},
     "output_type": "display_data"
    }
   ],
   "source": [
    "for i in range(0,2):\n",
    "    visualize_top_ten_tokens_per_sentiment('sentiment',i,'text_stopwords_removed','tab:red')\n",
    "    plt.savefig(f\"./images/df_10word_freq_rating{i}_stopwords.png\", dpi=300,bbox_inches = 'tight')"
   ]
  },
  {
   "cell_type": "markdown",
   "id": "4b92d547-1699-4751-9fcd-e9dc690ad57c",
   "metadata": {},
   "source": [
    "# Modeling\n",
    "\n",
    "## Baseline Model \n",
    "\n",
    "For the baseline model a Naive Bayes Model will be used. "
   ]
  },
  {
   "cell_type": "code",
   "execution_count": 16,
   "id": "cebb9863-032d-4643-9063-b2fcca72f529",
   "metadata": {},
   "outputs": [],
   "source": [
    "#split the features and target into train and test sets for modeling.\n",
    "\n",
    "from sklearn.model_selection import train_test_split\n",
    "\n",
    "\n",
    "y = df['sentiment']\n",
    "X = df['text_cleaned']\n",
    "\n",
    "X_train, X_test, y_train, y_test = train_test_split(X, y, test_size = 0.2, random_state = 30)\n",
    "X_test, X_val, y_test, y_val = train_test_split(X_test, y_test, test_size = 0.2, random_state = 30)"
   ]
  },
  {
   "cell_type": "code",
   "execution_count": 17,
   "id": "ca9f0667-8871-46d4-947d-6224967fb34c",
   "metadata": {},
   "outputs": [
    {
     "data": {
      "text/plain": [
       "0.8081841432225064"
      ]
     },
     "execution_count": 17,
     "metadata": {},
     "output_type": "execute_result"
    }
   ],
   "source": [
    "# Create Pipline\n",
    "from sklearn.pipeline import Pipeline\n",
    "from sklearn.preprocessing import FunctionTransformer\n",
    "from sklearn.feature_extraction.text import TfidfVectorizer\n",
    "from sklearn.naive_bayes import MultinomialNB\n",
    "\n",
    "#define pipline\n",
    "pipe1 = Pipeline([('tfidf', TfidfVectorizer(max_features=2000,\n",
    "                                            stop_words=stopwords_list,\n",
    "                                            token_pattern = token_pattern)),\n",
    "                  ('MNB',MultinomialNB())\n",
    "                 ])\n",
    "\n",
    "#fit pieline to train data\n",
    "pipe1.fit(X_train, y_train)\n",
    "\n",
    "#check score on baseline model\n",
    "pipe1.score(X_test, y_test)"
   ]
  },
  {
   "cell_type": "markdown",
   "id": "d1e17c70-04ba-4bb3-b9c8-ceefd83c1708",
   "metadata": {},
   "source": [
    "When checking for critical and not critical posts, it is more beneficial to minimize the number of false negatives. Therefore, the recall score of the model should be considered. "
   ]
  },
  {
   "cell_type": "code",
   "execution_count": 18,
   "id": "11e8ee94-a445-4091-9cdc-b5ee09b88c7a",
   "metadata": {},
   "outputs": [
    {
     "name": "stdout",
     "output_type": "stream",
     "text": [
      "Training Recall:  0.88\n",
      "Testing Recall:  0.8\n"
     ]
    }
   ],
   "source": [
    "#Check Recall Score\n",
    "from sklearn.metrics import recall_score\n",
    "\n",
    "y_train_pred = pipe1.predict(X_train)\n",
    "y_test_pred = pipe1.predict(X_test)\n",
    "print('Training Recall: ', round(recall_score(y_train, y_train_pred),2))\n",
    "print('Testing Recall: ', round(recall_score(y_test, y_test_pred),2))"
   ]
  },
  {
   "cell_type": "markdown",
   "id": "462ff8b4-d3b6-4741-b9de-1d88c300f9ce",
   "metadata": {},
   "source": [
    "The baseline model has high recall scores between both the training and testing data. This shows that model is performing well. The training data has a slightly larger recall score which means the model is slightly overfitting to the training model. However, this is not a large difference and the high testing recall score is still good. "
   ]
  },
  {
   "cell_type": "markdown",
   "id": "6927387c-2b09-449b-8b33-dfe0a393c965",
   "metadata": {},
   "source": [
    "## Model 2: Lemmatizing Words\n",
    "\n",
    "For the second iteration of the model, the tokens will be lemmatized to see if this can improve the model's performance."
   ]
  },
  {
   "cell_type": "code",
   "execution_count": 19,
   "id": "958fb002-9b6a-4034-9999-85bc80da1164",
   "metadata": {},
   "outputs": [
    {
     "data": {
      "text/plain": [
       "0.7953964194373402"
      ]
     },
     "execution_count": 19,
     "metadata": {},
     "output_type": "execute_result"
    }
   ],
   "source": [
    "from nltk.stem.wordnet import WordNetLemmatizer\n",
    "\n",
    "#Initialize lemmatizer\n",
    "lemmatizer = WordNetLemmatizer()\n",
    "\n",
    "def lemmatize_tokenize(text):\n",
    "    tokens = tokenizer.tokenize(text)\n",
    "    return [lemmatizer.lemmatize(token) for token in tokens]\n",
    "\n",
    "#lemamtize stopwords\n",
    "lemmatized_stopwords = [lemmatizer.lemmatize(word) for word in stopwords_list]\n",
    "\n",
    "#define pipeline\n",
    "pipe2 = Pipeline([('tfidf', TfidfVectorizer(max_features=2000,\n",
    "                                            stop_words=lemmatized_stopwords,\n",
    "                                            tokenizer = lemmatize_tokenize,\n",
    "                                            token_pattern=None)),\n",
    "                  ('MNB',MultinomialNB())\n",
    "                 ])\n",
    "\n",
    "#fit and transform train data\n",
    "pipe2.fit(X_train, y_train)\n",
    "\n",
    "#Check score of model 2\n",
    "pipe2.score(X_test, y_test)"
   ]
  },
  {
   "cell_type": "code",
   "execution_count": 20,
   "id": "be019b75-75e0-427a-a90c-cb05329063d3",
   "metadata": {},
   "outputs": [
    {
     "name": "stdout",
     "output_type": "stream",
     "text": [
      "Model 2 Training Recall:  0.88\n",
      "Model 2 Testing Recall:  0.79\n"
     ]
    }
   ],
   "source": [
    "#Check Recall Score\n",
    "y_train_pred = pipe2.predict(X_train)\n",
    "y_test_pred = pipe2.predict(X_test)\n",
    "print('Model 2 Training Recall: ', round(recall_score(y_train, y_train_pred),2))\n",
    "print('Model 2 Testing Recall: ', round(recall_score(y_test, y_test_pred),2))"
   ]
  },
  {
   "cell_type": "markdown",
   "id": "b440e337-0179-4f81-81c6-b888d4a3c793",
   "metadata": {},
   "source": [
    "Results are very similar to Model 1.\n",
    "\n",
    "## Model 3: Random Forest Model\n",
    "\n",
    "For the next iteration, a more complex Random Forest Model will be used to test if this improves model performance. GridsearchCV will also be utilized to help tune parameters of the Random Forest Classifier."
   ]
  },
  {
   "cell_type": "code",
   "execution_count": 21,
   "id": "65f81ce9-e54f-40a7-836e-9c63bd5ec0cb",
   "metadata": {},
   "outputs": [
    {
     "data": {
      "text/html": [
       "<style>#sk-container-id-1 {color: black;background-color: white;}#sk-container-id-1 pre{padding: 0;}#sk-container-id-1 div.sk-toggleable {background-color: white;}#sk-container-id-1 label.sk-toggleable__label {cursor: pointer;display: block;width: 100%;margin-bottom: 0;padding: 0.3em;box-sizing: border-box;text-align: center;}#sk-container-id-1 label.sk-toggleable__label-arrow:before {content: \"▸\";float: left;margin-right: 0.25em;color: #696969;}#sk-container-id-1 label.sk-toggleable__label-arrow:hover:before {color: black;}#sk-container-id-1 div.sk-estimator:hover label.sk-toggleable__label-arrow:before {color: black;}#sk-container-id-1 div.sk-toggleable__content {max-height: 0;max-width: 0;overflow: hidden;text-align: left;background-color: #f0f8ff;}#sk-container-id-1 div.sk-toggleable__content pre {margin: 0.2em;color: black;border-radius: 0.25em;background-color: #f0f8ff;}#sk-container-id-1 input.sk-toggleable__control:checked~div.sk-toggleable__content {max-height: 200px;max-width: 100%;overflow: auto;}#sk-container-id-1 input.sk-toggleable__control:checked~label.sk-toggleable__label-arrow:before {content: \"▾\";}#sk-container-id-1 div.sk-estimator input.sk-toggleable__control:checked~label.sk-toggleable__label {background-color: #d4ebff;}#sk-container-id-1 div.sk-label input.sk-toggleable__control:checked~label.sk-toggleable__label {background-color: #d4ebff;}#sk-container-id-1 input.sk-hidden--visually {border: 0;clip: rect(1px 1px 1px 1px);clip: rect(1px, 1px, 1px, 1px);height: 1px;margin: -1px;overflow: hidden;padding: 0;position: absolute;width: 1px;}#sk-container-id-1 div.sk-estimator {font-family: monospace;background-color: #f0f8ff;border: 1px dotted black;border-radius: 0.25em;box-sizing: border-box;margin-bottom: 0.5em;}#sk-container-id-1 div.sk-estimator:hover {background-color: #d4ebff;}#sk-container-id-1 div.sk-parallel-item::after {content: \"\";width: 100%;border-bottom: 1px solid gray;flex-grow: 1;}#sk-container-id-1 div.sk-label:hover label.sk-toggleable__label {background-color: #d4ebff;}#sk-container-id-1 div.sk-serial::before {content: \"\";position: absolute;border-left: 1px solid gray;box-sizing: border-box;top: 0;bottom: 0;left: 50%;z-index: 0;}#sk-container-id-1 div.sk-serial {display: flex;flex-direction: column;align-items: center;background-color: white;padding-right: 0.2em;padding-left: 0.2em;position: relative;}#sk-container-id-1 div.sk-item {position: relative;z-index: 1;}#sk-container-id-1 div.sk-parallel {display: flex;align-items: stretch;justify-content: center;background-color: white;position: relative;}#sk-container-id-1 div.sk-item::before, #sk-container-id-1 div.sk-parallel-item::before {content: \"\";position: absolute;border-left: 1px solid gray;box-sizing: border-box;top: 0;bottom: 0;left: 50%;z-index: -1;}#sk-container-id-1 div.sk-parallel-item {display: flex;flex-direction: column;z-index: 1;position: relative;background-color: white;}#sk-container-id-1 div.sk-parallel-item:first-child::after {align-self: flex-end;width: 50%;}#sk-container-id-1 div.sk-parallel-item:last-child::after {align-self: flex-start;width: 50%;}#sk-container-id-1 div.sk-parallel-item:only-child::after {width: 0;}#sk-container-id-1 div.sk-dashed-wrapped {border: 1px dashed gray;margin: 0 0.4em 0.5em 0.4em;box-sizing: border-box;padding-bottom: 0.4em;background-color: white;}#sk-container-id-1 div.sk-label label {font-family: monospace;font-weight: bold;display: inline-block;line-height: 1.2em;}#sk-container-id-1 div.sk-label-container {text-align: center;}#sk-container-id-1 div.sk-container {/* jupyter's `normalize.less` sets `[hidden] { display: none; }` but bootstrap.min.css set `[hidden] { display: none !important; }` so we also need the `!important` here to be able to override the default hidden behavior on the sphinx rendered scikit-learn.org. See: https://github.com/scikit-learn/scikit-learn/issues/21755 */display: inline-block !important;position: relative;}#sk-container-id-1 div.sk-text-repr-fallback {display: none;}</style><div id=\"sk-container-id-1\" class=\"sk-top-container\"><div class=\"sk-text-repr-fallback\"><pre>GridSearchCV(cv=5,\n",
       "             estimator=Pipeline(steps=[(&#x27;tfidf&#x27;,\n",
       "                                        TfidfVectorizer(max_features=2000,\n",
       "                                                        stop_words=[&#x27;i&#x27;, &#x27;me&#x27;,\n",
       "                                                                    &#x27;my&#x27;,\n",
       "                                                                    &#x27;myself&#x27;,\n",
       "                                                                    &#x27;we&#x27;, &#x27;our&#x27;,\n",
       "                                                                    &#x27;ours&#x27;,\n",
       "                                                                    &#x27;ourselves&#x27;,\n",
       "                                                                    &#x27;you&#x27;,\n",
       "                                                                    &quot;you&#x27;re&quot;,\n",
       "                                                                    &quot;you&#x27;ve&quot;,\n",
       "                                                                    &quot;you&#x27;ll&quot;,\n",
       "                                                                    &quot;you&#x27;d&quot;,\n",
       "                                                                    &#x27;your&#x27;,\n",
       "                                                                    &#x27;yours&#x27;,\n",
       "                                                                    &#x27;yourself&#x27;,\n",
       "                                                                    &#x27;yourselves&#x27;,\n",
       "                                                                    &#x27;he&#x27;, &#x27;him&#x27;,\n",
       "                                                                    &#x27;his&#x27;,\n",
       "                                                                    &#x27;himself&#x27;,\n",
       "                                                                    &#x27;she&#x27;,\n",
       "                                                                    &quot;she&#x27;s&quot;,\n",
       "                                                                    &#x27;her&#x27;,\n",
       "                                                                    &#x27;hers&#x27;,\n",
       "                                                                    &#x27;herself&#x27;,\n",
       "                                                                    &#x27;it&#x27;,\n",
       "                                                                    &quot;it&#x27;s&quot;,\n",
       "                                                                    &#x27;it&#x27;,\n",
       "                                                                    &#x27;itself&#x27;, ...],\n",
       "                                                        token_pattern=None,\n",
       "                                                        tokenizer=&lt;function lemmatize_tokenize at 0x163219f70&gt;)),\n",
       "                                       (&#x27;RF&#x27;,\n",
       "                                        RandomForestClassifier(random_state=42))]),\n",
       "             param_grid={&#x27;RF__max_depth&#x27;: [3, 5, 10],\n",
       "                         &#x27;RF__min_samples_leaf&#x27;: [1, 2, 4],\n",
       "                         &#x27;RF__min_samples_split&#x27;: [2, 5, 10],\n",
       "                         &#x27;RF__n_estimators&#x27;: [50, 100, 200]},\n",
       "             return_train_score=True, scoring=&#x27;recall&#x27;)</pre><b>In a Jupyter environment, please rerun this cell to show the HTML representation or trust the notebook. <br />On GitHub, the HTML representation is unable to render, please try loading this page with nbviewer.org.</b></div><div class=\"sk-container\" hidden><div class=\"sk-item sk-dashed-wrapped\"><div class=\"sk-label-container\"><div class=\"sk-label sk-toggleable\"><input class=\"sk-toggleable__control sk-hidden--visually\" id=\"sk-estimator-id-1\" type=\"checkbox\" ><label for=\"sk-estimator-id-1\" class=\"sk-toggleable__label sk-toggleable__label-arrow\">GridSearchCV</label><div class=\"sk-toggleable__content\"><pre>GridSearchCV(cv=5,\n",
       "             estimator=Pipeline(steps=[(&#x27;tfidf&#x27;,\n",
       "                                        TfidfVectorizer(max_features=2000,\n",
       "                                                        stop_words=[&#x27;i&#x27;, &#x27;me&#x27;,\n",
       "                                                                    &#x27;my&#x27;,\n",
       "                                                                    &#x27;myself&#x27;,\n",
       "                                                                    &#x27;we&#x27;, &#x27;our&#x27;,\n",
       "                                                                    &#x27;ours&#x27;,\n",
       "                                                                    &#x27;ourselves&#x27;,\n",
       "                                                                    &#x27;you&#x27;,\n",
       "                                                                    &quot;you&#x27;re&quot;,\n",
       "                                                                    &quot;you&#x27;ve&quot;,\n",
       "                                                                    &quot;you&#x27;ll&quot;,\n",
       "                                                                    &quot;you&#x27;d&quot;,\n",
       "                                                                    &#x27;your&#x27;,\n",
       "                                                                    &#x27;yours&#x27;,\n",
       "                                                                    &#x27;yourself&#x27;,\n",
       "                                                                    &#x27;yourselves&#x27;,\n",
       "                                                                    &#x27;he&#x27;, &#x27;him&#x27;,\n",
       "                                                                    &#x27;his&#x27;,\n",
       "                                                                    &#x27;himself&#x27;,\n",
       "                                                                    &#x27;she&#x27;,\n",
       "                                                                    &quot;she&#x27;s&quot;,\n",
       "                                                                    &#x27;her&#x27;,\n",
       "                                                                    &#x27;hers&#x27;,\n",
       "                                                                    &#x27;herself&#x27;,\n",
       "                                                                    &#x27;it&#x27;,\n",
       "                                                                    &quot;it&#x27;s&quot;,\n",
       "                                                                    &#x27;it&#x27;,\n",
       "                                                                    &#x27;itself&#x27;, ...],\n",
       "                                                        token_pattern=None,\n",
       "                                                        tokenizer=&lt;function lemmatize_tokenize at 0x163219f70&gt;)),\n",
       "                                       (&#x27;RF&#x27;,\n",
       "                                        RandomForestClassifier(random_state=42))]),\n",
       "             param_grid={&#x27;RF__max_depth&#x27;: [3, 5, 10],\n",
       "                         &#x27;RF__min_samples_leaf&#x27;: [1, 2, 4],\n",
       "                         &#x27;RF__min_samples_split&#x27;: [2, 5, 10],\n",
       "                         &#x27;RF__n_estimators&#x27;: [50, 100, 200]},\n",
       "             return_train_score=True, scoring=&#x27;recall&#x27;)</pre></div></div></div><div class=\"sk-parallel\"><div class=\"sk-parallel-item\"><div class=\"sk-item\"><div class=\"sk-label-container\"><div class=\"sk-label sk-toggleable\"><input class=\"sk-toggleable__control sk-hidden--visually\" id=\"sk-estimator-id-2\" type=\"checkbox\" ><label for=\"sk-estimator-id-2\" class=\"sk-toggleable__label sk-toggleable__label-arrow\">estimator: Pipeline</label><div class=\"sk-toggleable__content\"><pre>Pipeline(steps=[(&#x27;tfidf&#x27;,\n",
       "                 TfidfVectorizer(max_features=2000,\n",
       "                                 stop_words=[&#x27;i&#x27;, &#x27;me&#x27;, &#x27;my&#x27;, &#x27;myself&#x27;, &#x27;we&#x27;,\n",
       "                                             &#x27;our&#x27;, &#x27;ours&#x27;, &#x27;ourselves&#x27;, &#x27;you&#x27;,\n",
       "                                             &quot;you&#x27;re&quot;, &quot;you&#x27;ve&quot;, &quot;you&#x27;ll&quot;,\n",
       "                                             &quot;you&#x27;d&quot;, &#x27;your&#x27;, &#x27;yours&#x27;,\n",
       "                                             &#x27;yourself&#x27;, &#x27;yourselves&#x27;, &#x27;he&#x27;,\n",
       "                                             &#x27;him&#x27;, &#x27;his&#x27;, &#x27;himself&#x27;, &#x27;she&#x27;,\n",
       "                                             &quot;she&#x27;s&quot;, &#x27;her&#x27;, &#x27;hers&#x27;, &#x27;herself&#x27;,\n",
       "                                             &#x27;it&#x27;, &quot;it&#x27;s&quot;, &#x27;it&#x27;, &#x27;itself&#x27;, ...],\n",
       "                                 token_pattern=None,\n",
       "                                 tokenizer=&lt;function lemmatize_tokenize at 0x163219f70&gt;)),\n",
       "                (&#x27;RF&#x27;, RandomForestClassifier(random_state=42))])</pre></div></div></div><div class=\"sk-serial\"><div class=\"sk-item\"><div class=\"sk-serial\"><div class=\"sk-item\"><div class=\"sk-estimator sk-toggleable\"><input class=\"sk-toggleable__control sk-hidden--visually\" id=\"sk-estimator-id-3\" type=\"checkbox\" ><label for=\"sk-estimator-id-3\" class=\"sk-toggleable__label sk-toggleable__label-arrow\">TfidfVectorizer</label><div class=\"sk-toggleable__content\"><pre>TfidfVectorizer(max_features=2000,\n",
       "                stop_words=[&#x27;i&#x27;, &#x27;me&#x27;, &#x27;my&#x27;, &#x27;myself&#x27;, &#x27;we&#x27;, &#x27;our&#x27;, &#x27;ours&#x27;,\n",
       "                            &#x27;ourselves&#x27;, &#x27;you&#x27;, &quot;you&#x27;re&quot;, &quot;you&#x27;ve&quot;, &quot;you&#x27;ll&quot;,\n",
       "                            &quot;you&#x27;d&quot;, &#x27;your&#x27;, &#x27;yours&#x27;, &#x27;yourself&#x27;, &#x27;yourselves&#x27;,\n",
       "                            &#x27;he&#x27;, &#x27;him&#x27;, &#x27;his&#x27;, &#x27;himself&#x27;, &#x27;she&#x27;, &quot;she&#x27;s&quot;,\n",
       "                            &#x27;her&#x27;, &#x27;hers&#x27;, &#x27;herself&#x27;, &#x27;it&#x27;, &quot;it&#x27;s&quot;, &#x27;it&#x27;,\n",
       "                            &#x27;itself&#x27;, ...],\n",
       "                token_pattern=None,\n",
       "                tokenizer=&lt;function lemmatize_tokenize at 0x163219f70&gt;)</pre></div></div></div><div class=\"sk-item\"><div class=\"sk-estimator sk-toggleable\"><input class=\"sk-toggleable__control sk-hidden--visually\" id=\"sk-estimator-id-4\" type=\"checkbox\" ><label for=\"sk-estimator-id-4\" class=\"sk-toggleable__label sk-toggleable__label-arrow\">RandomForestClassifier</label><div class=\"sk-toggleable__content\"><pre>RandomForestClassifier(random_state=42)</pre></div></div></div></div></div></div></div></div></div></div></div></div>"
      ],
      "text/plain": [
       "GridSearchCV(cv=5,\n",
       "             estimator=Pipeline(steps=[('tfidf',\n",
       "                                        TfidfVectorizer(max_features=2000,\n",
       "                                                        stop_words=['i', 'me',\n",
       "                                                                    'my',\n",
       "                                                                    'myself',\n",
       "                                                                    'we', 'our',\n",
       "                                                                    'ours',\n",
       "                                                                    'ourselves',\n",
       "                                                                    'you',\n",
       "                                                                    \"you're\",\n",
       "                                                                    \"you've\",\n",
       "                                                                    \"you'll\",\n",
       "                                                                    \"you'd\",\n",
       "                                                                    'your',\n",
       "                                                                    'yours',\n",
       "                                                                    'yourself',\n",
       "                                                                    'yourselves',\n",
       "                                                                    'he', 'him',\n",
       "                                                                    'his',\n",
       "                                                                    'himself',\n",
       "                                                                    'she',\n",
       "                                                                    \"she's\",\n",
       "                                                                    'her',\n",
       "                                                                    'hers',\n",
       "                                                                    'herself',\n",
       "                                                                    'it',\n",
       "                                                                    \"it's\",\n",
       "                                                                    'it',\n",
       "                                                                    'itself', ...],\n",
       "                                                        token_pattern=None,\n",
       "                                                        tokenizer=<function lemmatize_tokenize at 0x163219f70>)),\n",
       "                                       ('RF',\n",
       "                                        RandomForestClassifier(random_state=42))]),\n",
       "             param_grid={'RF__max_depth': [3, 5, 10],\n",
       "                         'RF__min_samples_leaf': [1, 2, 4],\n",
       "                         'RF__min_samples_split': [2, 5, 10],\n",
       "                         'RF__n_estimators': [50, 100, 200]},\n",
       "             return_train_score=True, scoring='recall')"
      ]
     },
     "execution_count": 21,
     "metadata": {},
     "output_type": "execute_result"
    }
   ],
   "source": [
    "#Make Baseline Random Forest Model\n",
    "from sklearn.ensemble import RandomForestClassifier\n",
    "from sklearn.model_selection import GridSearchCV\n",
    "\n",
    "#define pipeline\n",
    "pipe3 = Pipeline([('tfidf', TfidfVectorizer(max_features=2000,\n",
    "                                            stop_words=lemmatized_stopwords,\n",
    "                                            tokenizer = lemmatize_tokenize,\n",
    "                                            token_pattern=None)),\n",
    "                  ('RF', RandomForestClassifier(random_state = 42))\n",
    "                 ])\n",
    "\n",
    "# Define the grid\n",
    "param_grid = {\n",
    "    'RF__n_estimators': [50, 100, 200],\n",
    "    'RF__max_depth': [3, 5, 10],\n",
    "    'RF__min_samples_split': [2, 5, 10],\n",
    "    'RF__min_samples_leaf': [1, 2, 4],}\n",
    "\n",
    "# Define a grid search\n",
    "gridsearch = GridSearchCV(pipe3,param_grid,scoring = 'recall', cv = 5,return_train_score = True)\n",
    "\n",
    "# Fit the training data\n",
    "gridsearch.fit(X_train,y_train)"
   ]
  },
  {
   "cell_type": "code",
   "execution_count": 22,
   "id": "39ab14ce-1f39-4548-96a3-25ec6e3ea966",
   "metadata": {},
   "outputs": [
    {
     "name": "stdout",
     "output_type": "stream",
     "text": [
      "Mean Training Recall Score: 77.08%\n",
      "Mean Test Recall Score: 79.79%\n",
      "Mean Val Recall Score: 72.55%\n",
      "Best Parameter Combination Found During Grid Search: {'RF__max_depth': 3, 'RF__min_samples_leaf': 4, 'RF__min_samples_split': 2, 'RF__n_estimators': 200}\n"
     ]
    }
   ],
   "source": [
    "# Check average score of gridsearch results\n",
    "pipe3_train_mean_score = np.mean(gridsearch.cv_results_[\"mean_train_score\"])\n",
    "pipe3_test_mean_score = gridsearch.score(X_test, y_test)\n",
    "pipe3_val_mean_score = gridsearch.score(X_val, y_val)\n",
    "\n",
    "print(f\"Mean Training Recall Score: {pipe3_train_mean_score :.2%}\")\n",
    "print(f\"Mean Test Recall Score: {pipe3_test_mean_score :.2%}\")\n",
    "print(f\"Mean Val Recall Score: {pipe3_val_mean_score :.2%}\")\n",
    "print(\"Best Parameter Combination Found During Grid Search:\",gridsearch.best_params_)"
   ]
  },
  {
   "cell_type": "markdown",
   "id": "92e404c7-e56b-4ad7-830c-97481ebe4fbc",
   "metadata": {},
   "source": [
    "The training and test scores are very close to each other and still close to 80%. This shows that the model is performing well and is not overfitting. The Validation score is a bit lower but still within 5% of the training recall score so this shows that the selected best parameter combination will produce a quality model."
   ]
  },
  {
   "cell_type": "markdown",
   "id": "f500ba35-13c5-42ac-a2be-fc831580613c",
   "metadata": {},
   "source": [
    "## Final Model\n",
    "\n",
    "The final model will be based on the results of the previous iterations. The random forest model with the optimized parameters will be chosen for the final model. It had the lowest training recall score but showed the least amount of overfitting and balanced performance between training and testing recall score. The recall score on the validation set also shows that the paratemers are properly tuned."
   ]
  },
  {
   "cell_type": "code",
   "execution_count": 23,
   "id": "d9c45824-9dde-4e6b-bd4f-89e6bcabdd4d",
   "metadata": {},
   "outputs": [
    {
     "data": {
      "text/html": [
       "<style>#sk-container-id-2 {color: black;background-color: white;}#sk-container-id-2 pre{padding: 0;}#sk-container-id-2 div.sk-toggleable {background-color: white;}#sk-container-id-2 label.sk-toggleable__label {cursor: pointer;display: block;width: 100%;margin-bottom: 0;padding: 0.3em;box-sizing: border-box;text-align: center;}#sk-container-id-2 label.sk-toggleable__label-arrow:before {content: \"▸\";float: left;margin-right: 0.25em;color: #696969;}#sk-container-id-2 label.sk-toggleable__label-arrow:hover:before {color: black;}#sk-container-id-2 div.sk-estimator:hover label.sk-toggleable__label-arrow:before {color: black;}#sk-container-id-2 div.sk-toggleable__content {max-height: 0;max-width: 0;overflow: hidden;text-align: left;background-color: #f0f8ff;}#sk-container-id-2 div.sk-toggleable__content pre {margin: 0.2em;color: black;border-radius: 0.25em;background-color: #f0f8ff;}#sk-container-id-2 input.sk-toggleable__control:checked~div.sk-toggleable__content {max-height: 200px;max-width: 100%;overflow: auto;}#sk-container-id-2 input.sk-toggleable__control:checked~label.sk-toggleable__label-arrow:before {content: \"▾\";}#sk-container-id-2 div.sk-estimator input.sk-toggleable__control:checked~label.sk-toggleable__label {background-color: #d4ebff;}#sk-container-id-2 div.sk-label input.sk-toggleable__control:checked~label.sk-toggleable__label {background-color: #d4ebff;}#sk-container-id-2 input.sk-hidden--visually {border: 0;clip: rect(1px 1px 1px 1px);clip: rect(1px, 1px, 1px, 1px);height: 1px;margin: -1px;overflow: hidden;padding: 0;position: absolute;width: 1px;}#sk-container-id-2 div.sk-estimator {font-family: monospace;background-color: #f0f8ff;border: 1px dotted black;border-radius: 0.25em;box-sizing: border-box;margin-bottom: 0.5em;}#sk-container-id-2 div.sk-estimator:hover {background-color: #d4ebff;}#sk-container-id-2 div.sk-parallel-item::after {content: \"\";width: 100%;border-bottom: 1px solid gray;flex-grow: 1;}#sk-container-id-2 div.sk-label:hover label.sk-toggleable__label {background-color: #d4ebff;}#sk-container-id-2 div.sk-serial::before {content: \"\";position: absolute;border-left: 1px solid gray;box-sizing: border-box;top: 0;bottom: 0;left: 50%;z-index: 0;}#sk-container-id-2 div.sk-serial {display: flex;flex-direction: column;align-items: center;background-color: white;padding-right: 0.2em;padding-left: 0.2em;position: relative;}#sk-container-id-2 div.sk-item {position: relative;z-index: 1;}#sk-container-id-2 div.sk-parallel {display: flex;align-items: stretch;justify-content: center;background-color: white;position: relative;}#sk-container-id-2 div.sk-item::before, #sk-container-id-2 div.sk-parallel-item::before {content: \"\";position: absolute;border-left: 1px solid gray;box-sizing: border-box;top: 0;bottom: 0;left: 50%;z-index: -1;}#sk-container-id-2 div.sk-parallel-item {display: flex;flex-direction: column;z-index: 1;position: relative;background-color: white;}#sk-container-id-2 div.sk-parallel-item:first-child::after {align-self: flex-end;width: 50%;}#sk-container-id-2 div.sk-parallel-item:last-child::after {align-self: flex-start;width: 50%;}#sk-container-id-2 div.sk-parallel-item:only-child::after {width: 0;}#sk-container-id-2 div.sk-dashed-wrapped {border: 1px dashed gray;margin: 0 0.4em 0.5em 0.4em;box-sizing: border-box;padding-bottom: 0.4em;background-color: white;}#sk-container-id-2 div.sk-label label {font-family: monospace;font-weight: bold;display: inline-block;line-height: 1.2em;}#sk-container-id-2 div.sk-label-container {text-align: center;}#sk-container-id-2 div.sk-container {/* jupyter's `normalize.less` sets `[hidden] { display: none; }` but bootstrap.min.css set `[hidden] { display: none !important; }` so we also need the `!important` here to be able to override the default hidden behavior on the sphinx rendered scikit-learn.org. See: https://github.com/scikit-learn/scikit-learn/issues/21755 */display: inline-block !important;position: relative;}#sk-container-id-2 div.sk-text-repr-fallback {display: none;}</style><div id=\"sk-container-id-2\" class=\"sk-top-container\"><div class=\"sk-text-repr-fallback\"><pre>Pipeline(steps=[(&#x27;tfidf&#x27;,\n",
       "                 TfidfVectorizer(max_features=2000,\n",
       "                                 stop_words=[&#x27;i&#x27;, &#x27;me&#x27;, &#x27;my&#x27;, &#x27;myself&#x27;, &#x27;we&#x27;,\n",
       "                                             &#x27;our&#x27;, &#x27;ours&#x27;, &#x27;ourselves&#x27;, &#x27;you&#x27;,\n",
       "                                             &quot;you&#x27;re&quot;, &quot;you&#x27;ve&quot;, &quot;you&#x27;ll&quot;,\n",
       "                                             &quot;you&#x27;d&quot;, &#x27;your&#x27;, &#x27;yours&#x27;,\n",
       "                                             &#x27;yourself&#x27;, &#x27;yourselves&#x27;, &#x27;he&#x27;,\n",
       "                                             &#x27;him&#x27;, &#x27;his&#x27;, &#x27;himself&#x27;, &#x27;she&#x27;,\n",
       "                                             &quot;she&#x27;s&quot;, &#x27;her&#x27;, &#x27;hers&#x27;, &#x27;herself&#x27;,\n",
       "                                             &#x27;it&#x27;, &quot;it&#x27;s&quot;, &#x27;it&#x27;, &#x27;itself&#x27;, ...],\n",
       "                                 token_pattern=None,\n",
       "                                 tokenizer=&lt;function lemmatize_tokenize at 0x163219f70&gt;)),\n",
       "                (&#x27;RF&#x27;,\n",
       "                 RandomForestClassifier(max_depth=3, min_samples_leaf=4,\n",
       "                                        n_estimators=200, random_state=42))])</pre><b>In a Jupyter environment, please rerun this cell to show the HTML representation or trust the notebook. <br />On GitHub, the HTML representation is unable to render, please try loading this page with nbviewer.org.</b></div><div class=\"sk-container\" hidden><div class=\"sk-item sk-dashed-wrapped\"><div class=\"sk-label-container\"><div class=\"sk-label sk-toggleable\"><input class=\"sk-toggleable__control sk-hidden--visually\" id=\"sk-estimator-id-5\" type=\"checkbox\" ><label for=\"sk-estimator-id-5\" class=\"sk-toggleable__label sk-toggleable__label-arrow\">Pipeline</label><div class=\"sk-toggleable__content\"><pre>Pipeline(steps=[(&#x27;tfidf&#x27;,\n",
       "                 TfidfVectorizer(max_features=2000,\n",
       "                                 stop_words=[&#x27;i&#x27;, &#x27;me&#x27;, &#x27;my&#x27;, &#x27;myself&#x27;, &#x27;we&#x27;,\n",
       "                                             &#x27;our&#x27;, &#x27;ours&#x27;, &#x27;ourselves&#x27;, &#x27;you&#x27;,\n",
       "                                             &quot;you&#x27;re&quot;, &quot;you&#x27;ve&quot;, &quot;you&#x27;ll&quot;,\n",
       "                                             &quot;you&#x27;d&quot;, &#x27;your&#x27;, &#x27;yours&#x27;,\n",
       "                                             &#x27;yourself&#x27;, &#x27;yourselves&#x27;, &#x27;he&#x27;,\n",
       "                                             &#x27;him&#x27;, &#x27;his&#x27;, &#x27;himself&#x27;, &#x27;she&#x27;,\n",
       "                                             &quot;she&#x27;s&quot;, &#x27;her&#x27;, &#x27;hers&#x27;, &#x27;herself&#x27;,\n",
       "                                             &#x27;it&#x27;, &quot;it&#x27;s&quot;, &#x27;it&#x27;, &#x27;itself&#x27;, ...],\n",
       "                                 token_pattern=None,\n",
       "                                 tokenizer=&lt;function lemmatize_tokenize at 0x163219f70&gt;)),\n",
       "                (&#x27;RF&#x27;,\n",
       "                 RandomForestClassifier(max_depth=3, min_samples_leaf=4,\n",
       "                                        n_estimators=200, random_state=42))])</pre></div></div></div><div class=\"sk-serial\"><div class=\"sk-item\"><div class=\"sk-estimator sk-toggleable\"><input class=\"sk-toggleable__control sk-hidden--visually\" id=\"sk-estimator-id-6\" type=\"checkbox\" ><label for=\"sk-estimator-id-6\" class=\"sk-toggleable__label sk-toggleable__label-arrow\">TfidfVectorizer</label><div class=\"sk-toggleable__content\"><pre>TfidfVectorizer(max_features=2000,\n",
       "                stop_words=[&#x27;i&#x27;, &#x27;me&#x27;, &#x27;my&#x27;, &#x27;myself&#x27;, &#x27;we&#x27;, &#x27;our&#x27;, &#x27;ours&#x27;,\n",
       "                            &#x27;ourselves&#x27;, &#x27;you&#x27;, &quot;you&#x27;re&quot;, &quot;you&#x27;ve&quot;, &quot;you&#x27;ll&quot;,\n",
       "                            &quot;you&#x27;d&quot;, &#x27;your&#x27;, &#x27;yours&#x27;, &#x27;yourself&#x27;, &#x27;yourselves&#x27;,\n",
       "                            &#x27;he&#x27;, &#x27;him&#x27;, &#x27;his&#x27;, &#x27;himself&#x27;, &#x27;she&#x27;, &quot;she&#x27;s&quot;,\n",
       "                            &#x27;her&#x27;, &#x27;hers&#x27;, &#x27;herself&#x27;, &#x27;it&#x27;, &quot;it&#x27;s&quot;, &#x27;it&#x27;,\n",
       "                            &#x27;itself&#x27;, ...],\n",
       "                token_pattern=None,\n",
       "                tokenizer=&lt;function lemmatize_tokenize at 0x163219f70&gt;)</pre></div></div></div><div class=\"sk-item\"><div class=\"sk-estimator sk-toggleable\"><input class=\"sk-toggleable__control sk-hidden--visually\" id=\"sk-estimator-id-7\" type=\"checkbox\" ><label for=\"sk-estimator-id-7\" class=\"sk-toggleable__label sk-toggleable__label-arrow\">RandomForestClassifier</label><div class=\"sk-toggleable__content\"><pre>RandomForestClassifier(max_depth=3, min_samples_leaf=4, n_estimators=200,\n",
       "                       random_state=42)</pre></div></div></div></div></div></div></div>"
      ],
      "text/plain": [
       "Pipeline(steps=[('tfidf',\n",
       "                 TfidfVectorizer(max_features=2000,\n",
       "                                 stop_words=['i', 'me', 'my', 'myself', 'we',\n",
       "                                             'our', 'ours', 'ourselves', 'you',\n",
       "                                             \"you're\", \"you've\", \"you'll\",\n",
       "                                             \"you'd\", 'your', 'yours',\n",
       "                                             'yourself', 'yourselves', 'he',\n",
       "                                             'him', 'his', 'himself', 'she',\n",
       "                                             \"she's\", 'her', 'hers', 'herself',\n",
       "                                             'it', \"it's\", 'it', 'itself', ...],\n",
       "                                 token_pattern=None,\n",
       "                                 tokenizer=<function lemmatize_tokenize at 0x163219f70>)),\n",
       "                ('RF',\n",
       "                 RandomForestClassifier(max_depth=3, min_samples_leaf=4,\n",
       "                                        n_estimators=200, random_state=42))])"
      ]
     },
     "execution_count": 23,
     "metadata": {},
     "output_type": "execute_result"
    }
   ],
   "source": [
    "#Define Final Model\n",
    "final_model = Pipeline([('tfidf', TfidfVectorizer(max_features=2000,\n",
    "                                            stop_words=lemmatized_stopwords,\n",
    "                                            tokenizer = lemmatize_tokenize,\n",
    "                                            token_pattern=None)),\n",
    "                  ('RF', RandomForestClassifier(max_depth = 3,\n",
    "                                                min_samples_leaf = 4,\n",
    "                                                min_samples_split = 2,\n",
    "                                                n_estimators = 200,\n",
    "                                                random_state = 42))\n",
    "                 ])\n",
    "\n",
    "#fit model to the train data\n",
    "final_model.fit(X_train, y_train)"
   ]
  },
  {
   "cell_type": "code",
   "execution_count": 24,
   "id": "70fd686a-bfeb-4290-8a5b-a854362c3c18",
   "metadata": {},
   "outputs": [
    {
     "name": "stdout",
     "output_type": "stream",
     "text": [
      "Training Recall:  0.82\n",
      "Testing Recall:  0.8\n"
     ]
    }
   ],
   "source": [
    "#Check recall scores of final model\n",
    "final_y_train_pred = final_model.predict(X_train)\n",
    "final_y_test_pred = final_model.predict(X_test)\n",
    "\n",
    "print('Training Recall: ', round(recall_score(y_train, final_y_train_pred),2))\n",
    "print('Testing Recall: ', round(recall_score(y_test, final_y_test_pred),2))"
   ]
  },
  {
   "cell_type": "code",
   "execution_count": 25,
   "id": "06e5540f-3fac-4367-97ec-3952578565a8",
   "metadata": {},
   "outputs": [
    {
     "data": {
      "image/png": "[encoded data removed]",
      "text/plain": [
       "<Figure size 640x480 with 2 Axes>"
      ]
     },
     "metadata": {},
     "output_type": "display_data"
    }
   ],
   "source": [
    "#Make Confusion Matrix\n",
    "from sklearn.metrics import confusion_matrix\n",
    "from sklearn.metrics import ConfusionMatrixDisplay\n",
    "import seaborn as sns\n",
    "\n",
    "cm = confusion_matrix(y_test, final_y_test_pred)\n",
    "sns.heatmap(cm, annot=True, fmt='d', cmap='Blues',xticklabels = ['Critical','Not Critical'],yticklabels = ['Critical','Not Critical'])\n",
    "plt.xlabel(\"Predicted\")\n",
    "plt.ylabel(\"True\")\n",
    "plt.title(\"Confusion Matrix\")\n",
    "plt.savefig(\"./images/confusion_matrix.png\", dpi=150)\n",
    "plt.show();"
   ]
  },
  {
   "cell_type": "markdown",
   "id": "3bf17dbf-5a07-455e-9c8f-a076b262c44d",
   "metadata": {},
   "source": [
    "# Conclusion\n",
    "\n",
    "## Recommendations\n",
    "\n",
    "As shown in the final model, a Random Forest classifier model has performed the best with optimized parameters. This model showed a recall score of 82% and 80% on the training and testing data respectively. That means that among all the posts that are actually \"Critical\" (True Positives + False Negatives), the model was able to identify 80% as \"critical\". Now when classifying user X posts, TSC can easily review the posts that will have pertinent sentiment towards Apple and the company will be able to make an informed decision about whether or not to continue to sell and promote Apple products.\n",
    "\n",
    "## Limitations\n",
    "\n",
    "The dataset only contained posts from a specific time period. The model is not trained on or considers information from other periods of time so it may only work best for posts coming from a similar time period. It will be better to continually evaluate the model as Apple offers new generations of products and people mention those in their posts.\n",
    "\n",
    "\n",
    "## Next Steps\n",
    "\n",
    "* Evaluate the model yearly to ensure the the model has been trained on information that is relevant to current Apple products and current customer sentiment.\n",
    "* Consider incorporating Apple reviews on other websites.\n",
    "* Review posts that are classified as Critical to determine whether customers want to continue to buy Apple products from TSC.\n"
   ]
  }
 ],
 "metadata": {
  "kernelspec": {
   "display_name": "Python (my-learn-env)",
   "language": "python",
   "name": "learn-env"
  },
  "language_info": {
   "codemirror_mode": {
    "name": "ipython",
    "version": 3
   },
   "file_extension": ".py",
   "mimetype": "text/x-python",
   "name": "python",
   "nbconvert_exporter": "python",
   "pygments_lexer": "ipython3",
   "version": "3.8.5"
  }
 },
 "nbformat": 4,
 "nbformat_minor": 5
}

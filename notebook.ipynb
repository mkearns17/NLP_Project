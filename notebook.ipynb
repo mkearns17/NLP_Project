{
 "cells": [
  {
   "cell_type": "markdown",
   "id": "b22d90ae-37be-40ab-8019-4fdaebe3dabf",
   "metadata": {},
   "source": [
    "# Natural Language Processing - Apple Sentiment\n",
    "by Michael Kearns\n",
    "\n",
    "# Business Understanding\n",
    "\n",
    "Customer relations and approval is highly valued at the Tech Sales Company (TSC). Currently, TSC sells Apple products and we want to be sure if we should continue to market and supply Apple products to our customers. If customers no longer like Apple, we want to separate ourselves from the brand and show our loyalty to the customers and promote other products. To determine if customers support Apple, we plan to develop a natural language processing model that can identify customer sentiment toward Apple based on the content of X (Twitter) posts. Then, this model will be used to monitor customer sentiment over the next year by rating future X posts."
   ]
  },
  {
   "cell_type": "markdown",
   "id": "ccf13a3b-1c75-4133-b594-6b03e75402e1",
   "metadata": {},
   "source": [
    "# Data Understanding\n",
    "To train and test this machine learning model, data from [Crowdflower](https://www.kaggle.com/datasets/slythe/apple-twitter-sentiment-crowdflower) will be used. This dataset includes nearly 4,000 X posts that reference Apple from December, 2014. The primary features that will be used are the \"Sentiment\" and \"Text\" features that include the posts and that user's sentiment toward Apple, rated from 1-3 scale\n"
   ]
  },
  {
   "cell_type": "markdown",
   "id": "3304da02-8fd1-4040-87b1-2b09d61c5f85",
   "metadata": {},
   "source": [
    "## Data Preparation"
   ]
  },
  {
   "cell_type": "code",
   "execution_count": 1,
   "id": "4358f4cb-7321-4157-822e-02dfa6d12e08",
   "metadata": {},
   "outputs": [
    {
     "name": "stdout",
     "output_type": "stream",
     "text": [
      "<class 'pandas.core.frame.DataFrame'>\n",
      "RangeIndex: 3886 entries, 0 to 3885\n",
      "Data columns (total 12 columns):\n",
      " #   Column                Non-Null Count  Dtype  \n",
      "---  ------                --------------  -----  \n",
      " 0   _unit_id              3886 non-null   int64  \n",
      " 1   _golden               3886 non-null   bool   \n",
      " 2   _unit_state           3886 non-null   object \n",
      " 3   _trusted_judgments    3886 non-null   int64  \n",
      " 4   _last_judgment_at     3783 non-null   object \n",
      " 5   sentiment             3886 non-null   object \n",
      " 6   sentiment:confidence  3886 non-null   float64\n",
      " 7   date                  3886 non-null   object \n",
      " 8   id                    3886 non-null   float64\n",
      " 9   query                 3886 non-null   object \n",
      " 10  sentiment_gold        103 non-null    object \n",
      " 11  text                  3886 non-null   object \n",
      "dtypes: bool(1), float64(2), int64(2), object(7)\n",
      "memory usage: 337.9+ KB\n"
     ]
    }
   ],
   "source": [
    "import pandas as pd\n",
    "\n",
    "#import csv file\n",
    "filename = 'data/Apple-Twitter-Sentiment-DFE.csv'\n",
    "df = pd.read_csv(filename, encoding=\"latin1\")\n",
    "\n",
    "#check dataframe info\n",
    "df.info()"
   ]
  },
  {
   "cell_type": "markdown",
   "id": "d5c5c524-833e-40cd-8129-9e5d57fa86d6",
   "metadata": {},
   "source": [
    "Only the \"sentiment\" and \"text\" columns will be retained for this model. All other columns can be removed."
   ]
  },
  {
   "cell_type": "code",
   "execution_count": 2,
   "id": "ccd74537-e45f-49cc-b166-0f038fcd4eef",
   "metadata": {},
   "outputs": [
    {
     "name": "stdout",
     "output_type": "stream",
     "text": [
      "<class 'pandas.core.frame.DataFrame'>\n",
      "RangeIndex: 3886 entries, 0 to 3885\n",
      "Data columns (total 2 columns):\n",
      " #   Column     Non-Null Count  Dtype \n",
      "---  ------     --------------  ----- \n",
      " 0   sentiment  3886 non-null   object\n",
      " 1   text       3886 non-null   object\n",
      "dtypes: object(2)\n",
      "memory usage: 60.8+ KB\n"
     ]
    }
   ],
   "source": [
    "#Keep relevant columns in dataset.\n",
    "df = df[['sentiment','text']]\n",
    "df.info()"
   ]
  },
  {
   "cell_type": "code",
   "execution_count": 3,
   "id": "fdd352b0-553b-475d-9871-466ce37d7473",
   "metadata": {},
   "outputs": [
    {
     "name": "stdout",
     "output_type": "stream",
     "text": [
      "sentiment\n",
      "3               2162\n",
      "1               1219\n",
      "5                423\n",
      "not_relevant      82\n",
      "Name: count, dtype: int64\n"
     ]
    }
   ],
   "source": [
    "#Check overall sentiment distribution\n",
    "print(df['sentiment'].value_counts())"
   ]
  },
  {
   "cell_type": "markdown",
   "id": "bcd0b422-4c0f-473d-b906-ccec58e0dfd4",
   "metadata": {},
   "source": [
    "Based on background information provided by the datasource, sentiment is ranked as 1 - Negative, 3 - Neutral, 5 - Positive."
   ]
  },
  {
   "cell_type": "code",
   "execution_count": 4,
   "id": "5dc0cd79-fb71-496b-8313-9165f3fd9b3e",
   "metadata": {},
   "outputs": [
    {
     "name": "stdout",
     "output_type": "stream",
     "text": [
      "sentiment\n",
      "3               0.556356\n",
      "1               0.313690\n",
      "5               0.108852\n",
      "not_relevant    0.021101\n",
      "Name: proportion, dtype: float64\n"
     ]
    }
   ],
   "source": [
    "#Check proportion of sentiment values\n",
    "print(df['sentiment'].value_counts(normalize = True))"
   ]
  },
  {
   "cell_type": "markdown",
   "id": "d37f7c97-f728-401b-8a25-285063540760",
   "metadata": {},
   "source": [
    "\"Neutral\" sentiment posts take up almost 56% of the datset, followed by %31 \"Negative\" posts, and %11 \"Positive\" posts. If the model was created based on this current distribution, the model would likely be more influenced by the \"Neutral\" or \"Negative\" posts and will not be able to accurately rate future posts. Therefore, some tactics will need to be implemented to deal with the class imbalance. Before the class imbalance is addressed, the data will need to be cleaned/preprocessed and split into train and test sets.\n",
    "\n",
    "There are less than 100 posts labeled as \"not_relevant\". These can be removed and will not be considered in the model."
   ]
  },
  {
   "cell_type": "code",
   "execution_count": 5,
   "id": "1dd3a7cc-3c1c-43d8-a3d7-0ea6e66f28b5",
   "metadata": {},
   "outputs": [
    {
     "name": "stdout",
     "output_type": "stream",
     "text": [
      "sentiment\n",
      "3    0.568349\n",
      "1    0.320452\n",
      "5    0.111199\n",
      "Name: proportion, dtype: float64\n"
     ]
    }
   ],
   "source": [
    "#Remove \"not_relevant\" rows\n",
    "df = df[df['sentiment']!= 'not_relevant']\n",
    "\n",
    "#Recheck proportion of sentiment values and confirm \"not_relevant\" rows are removed\n",
    "print(df['sentiment'].value_counts(normalize = True))"
   ]
  },
  {
   "cell_type": "code",
   "execution_count": 6,
   "id": "727ad6d1-d0de-48de-8935-dde67c78473e",
   "metadata": {},
   "outputs": [],
   "source": [
    "#convert sentiment to integers\n",
    "df['sentiment'] = df['sentiment'].astype(int)"
   ]
  },
  {
   "cell_type": "markdown",
   "id": "01b69a56-9515-42ee-8a90-413d18457566",
   "metadata": {},
   "source": [
    "Data needs to simplified and cleaned. Initial steps to preprocess the text will be to convert all letters in a post to lowercase. Mentiones, ie. @..., and URLS will be removed. The user mentions will be primarily directed at Apple which is not signifcant as all posts in this data are in reference towards Apple. URLS are long and not semantic content."
   ]
  },
  {
   "cell_type": "code",
   "execution_count": 7,
   "id": "1a66b04a-f577-4f9a-b8e9-ad66f8927060",
   "metadata": {},
   "outputs": [],
   "source": [
    "#Convert all letters to lowercase\n",
    "df['text_cleaned'] = df['text'].str.lower()\n",
    "\n",
    "import re\n",
    "\n",
    "def clean_text(text):\n",
    "    text = re.sub(r'@\\w+', '', text)  # Remove mentions\n",
    "    text = re.sub(r'http\\S+|www\\S+', '', text)  # Remove URLs\n",
    "    text = re.sub(r'#', '', text)  # Remove hashtags\n",
    "    text = re.sub(r'[^\\w\\s]', '', text)  # Remove special characters\n",
    "    text = text.strip()  # Remove extra whitespaces\n",
    "    return text\n",
    "\n",
    "# Apply function to the dataset\n",
    "df['text_cleaned'] = df['text_cleaned'].apply(clean_text)"
   ]
  },
  {
   "cell_type": "code",
   "execution_count": 8,
   "id": "6b430090-775d-46fb-9e9f-b8abade2353d",
   "metadata": {},
   "outputs": [
    {
     "data": {
      "text/plain": [
       "text            #AAPL moving towards the #IoT and more connect...\n",
       "text_cleaned    aapl moving towards the iot and more connectiv...\n",
       "Name: 516, dtype: object"
      ]
     },
     "execution_count": 8,
     "metadata": {},
     "output_type": "execute_result"
    }
   ],
   "source": [
    "#confirm that cleaning worked.\n",
    "df[['text','text_cleaned']].iloc[500]"
   ]
  },
  {
   "cell_type": "markdown",
   "id": "7a1eb037-d7c1-4523-9671-c79d20b5a240",
   "metadata": {},
   "source": [
    "To make the text more suitable for a machine learning model, the text needs to be tokenized. This will be done using the **nltk** module."
   ]
  },
  {
   "cell_type": "code",
   "execution_count": 9,
   "id": "ce847dbe-395d-4f56-8c9b-75271fd188a9",
   "metadata": {},
   "outputs": [
    {
     "name": "stderr",
     "output_type": "stream",
     "text": [
      "/Users/michaelkearns/anaconda3/envs/my-learn-env/lib/python3.8/site-packages/scipy/__init__.py:146: UserWarning: A NumPy version >=1.16.5 and <1.23.0 is required for this version of SciPy (detected version 1.24.3\n",
      "  warnings.warn(f\"A NumPy version >={np_minversion} and <{np_maxversion}\"\n"
     ]
    }
   ],
   "source": [
    "import nltk\n",
    "from nltk.probability import FreqDist\n",
    "from nltk.corpus import stopwords\n",
    "from nltk.tokenize import regexp_tokenize, word_tokenize, RegexpTokenizer\n",
    "import matplotlib.pyplot as plt\n",
    "import string\n"
   ]
  },
  {
   "cell_type": "code",
   "execution_count": 10,
   "id": "9a634b07-c7a5-4fba-8459-e5c9f0e8e16c",
   "metadata": {},
   "outputs": [],
   "source": [
    "#tokenize text using basic regex pattern\n",
    "token_pattern = r\"(?u)\\b\\w\\w+\\b\"\n",
    "tokenizer = RegexpTokenizer(token_pattern)\n",
    "\n",
    "df['text_tokenized']=df['text_cleaned'].apply(tokenizer.tokenize)"
   ]
  },
  {
   "cell_type": "code",
   "execution_count": 11,
   "id": "ae502e9b-c650-4d80-b6fc-90a232d3dc6c",
   "metadata": {},
   "outputs": [
    {
     "data": {
      "text/plain": [
       "text              #AAPL moving towards the #IoT and more connect...\n",
       "text_cleaned      aapl moving towards the iot and more connectiv...\n",
       "text_tokenized    [aapl, moving, towards, the, iot, and, more, c...\n",
       "Name: 516, dtype: object"
      ]
     },
     "execution_count": 11,
     "metadata": {},
     "output_type": "execute_result"
    }
   ],
   "source": [
    "#confirm that tokenizing worked\n",
    "df[['text','text_cleaned','text_tokenized']].iloc[500]"
   ]
  },
  {
   "cell_type": "code",
   "execution_count": 12,
   "id": "e0ebb94c-c212-41c0-aa4c-46b303725bab",
   "metadata": {},
   "outputs": [
    {
     "data": {
      "text/plain": [
       "['aapl',\n",
       " 'moving',\n",
       " 'towards',\n",
       " 'the',\n",
       " 'iot',\n",
       " 'and',\n",
       " 'more',\n",
       " 'connectivity',\n",
       " 'in',\n",
       " 'your',\n",
       " 'everyday',\n",
       " 'life',\n",
       " 'rt',\n",
       " 'the',\n",
       " 'future']"
      ]
     },
     "execution_count": 12,
     "metadata": {},
     "output_type": "execute_result"
    }
   ],
   "source": [
    "df.iloc[500]['text_tokenized'][:15]"
   ]
  },
  {
   "cell_type": "code",
   "execution_count": 13,
   "id": "9633cafe-f613-4ee0-be60-400e4ca0c8f8",
   "metadata": {},
   "outputs": [
    {
     "data": {
      "image/png": "[encoded data removed]",
      "text/plain": [
       "<Figure size 640x480 with 1 Axes>"
      ]
     },
     "metadata": {},
     "output_type": "display_data"
    }
   ],
   "source": [
    "#Create Frequency Distribution of Tokens\n",
    "text_freq_dist = FreqDist(df['text_tokenized'].explode())\n",
    "\n",
    "# Plot the top 10 tokens\n",
    "\n",
    "import matplotlib.pyplot as plt\n",
    "from matplotlib.ticker import MaxNLocator\n",
    "\n",
    "def visualize_top_10(freq_dist, title):\n",
    "\n",
    "    # Extract data for plotting\n",
    "    top_10 = list(zip(*freq_dist.most_common(10)))\n",
    "    tokens = top_10[0]\n",
    "    counts = top_10[1]\n",
    "\n",
    "    # Set up plot and plot data\n",
    "    fig, ax = plt.subplots()\n",
    "    ax.bar(tokens, counts)\n",
    "\n",
    "    # Customize plot appearance\n",
    "    ax.set_title(title)\n",
    "    ax.set_ylabel(\"Count\")\n",
    "    ax.yaxis.set_major_locator(MaxNLocator(integer=True))\n",
    "    ax.tick_params(axis=\"x\", rotation=90)\n",
    "    \n",
    "visualize_top_10(text_freq_dist, 'Top 10 Word Frequency')"
   ]
  },
  {
   "cell_type": "code",
   "execution_count": 14,
   "id": "b67b42db-9bd0-43bb-ba95-c11c3121cc74",
   "metadata": {},
   "outputs": [],
   "source": [
    "neg = df[df['sentiment'] == 1]\n",
    "neg_freq_dist = FreqDist(neg['text_tokenized'].explode())\n",
    "top_10 = list(zip(*neg_freq_dist.most_common(10)))"
   ]
  },
  {
   "cell_type": "code",
   "execution_count": 15,
   "id": "663d434e-b805-427f-8455-fb8a80580e69",
   "metadata": {},
   "outputs": [
    {
     "data": {
      "text/plain": [
       "[('the', 'to', 'my', 'is', 'it', 'you', 'of', 'rt', 'and', 'on'),\n",
       " (513, 396, 338, 244, 229, 227, 212, 200, 196, 190)]"
      ]
     },
     "execution_count": 15,
     "metadata": {},
     "output_type": "execute_result"
    }
   ],
   "source": []
  },
  {
   "cell_type": "code",
   "execution_count": 18,
   "id": "32548fa9-40bf-47ce-84cf-4bfcd06328f1",
   "metadata": {},
   "outputs": [
    {
     "data": {
      "image/png": "[encoded data removed]",
      "text/plain": [
       "<Figure size 640x480 with 1 Axes>"
      ]
     },
     "metadata": {},
     "output_type": "display_data"
    },
    {
     "data": {
      "image/png": "[encoded data removed]",
      "text/plain": [
       "<Figure size 640x480 with 1 Axes>"
      ]
     },
     "metadata": {},
     "output_type": "display_data"
    },
    {
     "data": {
      "image/png": "[encoded data removed]",
      "text/plain": [
       "<Figure size 640x480 with 1 Axes>"
      ]
     },
     "metadata": {},
     "output_type": "display_data"
    }
   ],
   "source": [
    "# Add in labels for filtering (we won't pass them in to the model)\n",
    "neg_freq_dist = FreqDist(df[df['sentiment'] == 1]['text_tokenized'].explode())\n",
    "neut_freq_dist = FreqDist(df[df['sentiment'] == 3]['text_tokenized'].explode())\n",
    "pos_freq_dist = FreqDist(df[df['sentiment'] == 5]['text_tokenized'].explode())\n",
    "\n",
    "visualize_top_10(neg_freq_dist, 'Top 10 Word Frequency - Negative Posts')\n",
    "visualize_top_10(neut_freq_dist, 'Top 10 Word Frequency - Neutral Posts')\n",
    "visualize_top_10(pos_freq_dist, 'Top 10 Word Frequency - Positive Posts')"
   ]
  },
  {
   "cell_type": "markdown",
   "id": "0a9a2ad9-0c05-451e-8bb2-6693a4623747",
   "metadata": {},
   "source": [
    "Stopwords seem to be very repeatable among the three types of posts. They should me removed to make the tokens more distinct."
   ]
  },
  {
   "cell_type": "markdown",
   "id": "f2aa11dd-e0b8-4d34-ba1d-e7d32d750e73",
   "metadata": {},
   "source": [
    "# Exploratory data Analysis"
   ]
  },
  {
   "cell_type": "markdown",
   "id": "3bf17dbf-5a07-455e-9c8f-a076b262c44d",
   "metadata": {},
   "source": [
    "# Conclusion"
   ]
  },
  {
   "cell_type": "markdown",
   "id": "dafde494-33ce-4ee8-90d1-964e0a64541b",
   "metadata": {},
   "source": [
    "## Limitations"
   ]
  },
  {
   "cell_type": "markdown",
   "id": "71a02447-ccbb-4259-b18d-3c37f3aa9aae",
   "metadata": {},
   "source": [
    "## Recommendations"
   ]
  },
  {
   "cell_type": "markdown",
   "id": "663c3148-a3e1-4cd5-b44d-6e35bd898df1",
   "metadata": {},
   "source": [
    "## Next Steps"
   ]
  },
  {
   "cell_type": "code",
   "execution_count": null,
   "id": "a97ffc5a-9eac-4218-8de1-2c37e31bbcf5",
   "metadata": {},
   "outputs": [],
   "source": []
  },
  {
   "cell_type": "code",
   "execution_count": null,
   "id": "55c0601e-4f59-4917-a579-ec16ab298b2a",
   "metadata": {},
   "outputs": [],
   "source": []
  }
 ],
 "metadata": {
  "kernelspec": {
   "display_name": "Python (my-learn-env)",
   "language": "python",
   "name": "learn-env"
  },
  "language_info": {
   "codemirror_mode": {
    "name": "ipython",
    "version": 3
   },
   "file_extension": ".py",
   "mimetype": "text/x-python",
   "name": "python",
   "nbconvert_exporter": "python",
   "pygments_lexer": "ipython3",
   "version": "3.8.5"
  }
 },
 "nbformat": 4,
 "nbformat_minor": 5
}
